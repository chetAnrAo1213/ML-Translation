{
  "nbformat": 4,
  "nbformat_minor": 0,
  "metadata": {
    "colab": {
      "provenance": [],
      "gpuType": "T4",
      "mount_file_id": "1FZtCItcH5NZdZqZU-hFZV5VCJ9LM1H5K",
      "authorship_tag": "ABX9TyOHuDbS1/jZvTHN2zA7L2bt",
      "include_colab_link": true
    },
    "kernelspec": {
      "name": "python3",
      "display_name": "Python 3"
    },
    "language_info": {
      "name": "python"
    },
    "accelerator": "GPU"
  },
  "cells": [
    {
      "cell_type": "markdown",
      "metadata": {
        "id": "view-in-github",
        "colab_type": "text"
      },
      "source": [
        "<a href=\"https://colab.research.google.com/github/chetAnrAo1213/ML-Translation/blob/main/C_To_Cpp_codebert_base.ipynb\" target=\"_parent\"><img src=\"https://colab.research.google.com/assets/colab-badge.svg\" alt=\"Open In Colab\"/></a>"
      ]
    },
    {
      "cell_type": "code",
      "source": [
        "print(tokenizer.tokenize(\"for(i=0;i<n;i++)\"))\n",
        "print(tokenizer.tokenize('printf(\"Hello-world\")'))"
      ],
      "metadata": {
        "colab": {
          "base_uri": "https://localhost:8080/"
        },
        "id": "Ybe0ExFWEgZ-",
        "outputId": "45d3fc37-976d-4f9d-e9f3-64b4488be713"
      },
      "execution_count": null,
      "outputs": [
        {
          "output_type": "stream",
          "name": "stdout",
          "text": [
            "['for', '(', 'i', '=', '0', ';', 'i', '<', 'n', ';', 'i', '++)']\n",
            "['printf', '(\"', 'Hello', '-', 'world', '\")']\n"
          ]
        }
      ]
    },
    {
      "cell_type": "code",
      "execution_count": null,
      "metadata": {
        "colab": {
          "base_uri": "https://localhost:8080/"
        },
        "id": "cSHajax9983O",
        "outputId": "be20d516-f9af-4ef4-d224-c45f7d46154e"
      },
      "outputs": [
        {
          "output_type": "stream",
          "name": "stdout",
          "text": [
            "Data preprocessing completed.\n",
            "Training Started\n",
            "Epoch [1/10], Loss: 5.8645\n",
            "Epoch [2/10], Loss: 1.1070\n",
            "Epoch [3/10], Loss: 0.2342\n",
            "Epoch [4/10], Loss: 0.0853\n",
            "Epoch [5/10], Loss: 0.0453\n",
            "Epoch [6/10], Loss: 0.0286\n",
            "Epoch [7/10], Loss: 0.0196\n",
            "Epoch [8/10], Loss: 0.0142\n",
            "Epoch [9/10], Loss: 0.0107\n",
            "Epoch [10/10], Loss: 0.0083\n",
            "Training Completed\n",
            "Validation Loss: 0.0034\n"
          ]
        }
      ],
      "source": [
        "import torch\n",
        "import numpy as np\n",
        "import math\n",
        "import pandas as pd\n",
        "import torch.nn as nn\n",
        "import torch.optim as optim\n",
        "import torch.nn.functional as F\n",
        "from torch.utils.data import Dataset, DataLoader\n",
        "from transformers import AutoTokenizer\n",
        "from sklearn.model_selection import train_test_split\n",
        "\n",
        "\n",
        "# 1. OS device\n",
        "def get_device():\n",
        "    return torch.device('cuda') if torch.cuda.is_available() else torch.device('cpu')\n",
        "\n",
        "class PositionalEncoding(nn.Module):\n",
        "    def __init__(self, d_model, max_length):\n",
        "        super().__init__()\n",
        "        self.d_model = d_model\n",
        "        self.pe = self.create_positional_encoding(max_length)\n",
        "\n",
        "    def create_positional_encoding(self, max_length):\n",
        "        position = torch.arange(max_length).unsqueeze(1)\n",
        "        div_term = torch.exp(torch.arange(0, self.d_model, 2) * (-math.log(10000.0) / self.d_model))\n",
        "        pe = torch.zeros(max_length, self.d_model)\n",
        "        pe[:, 0::2] = torch.sin(position * div_term)\n",
        "        pe[:, 1::2] = torch.cos(position * div_term)\n",
        "        return pe.unsqueeze(0)\n",
        "\n",
        "    def forward(self, x):\n",
        "        return x + self.pe[:, :x.size(1)].to(x.device)\n",
        "\n",
        "class CppTranslationDataset(Dataset):\n",
        "    def __init__(self, data, tokenizer, max_length):\n",
        "        self.data = data\n",
        "        self.tokenizer = tokenizer\n",
        "        self.max_length = max_length\n",
        "\n",
        "    def __len__(self):\n",
        "        return len(self.data)\n",
        "\n",
        "    def __getitem__(self, idx):\n",
        "        c_code = str(self.data.iloc[idx]['C_Code'])\n",
        "        cpp_code = str(self.data.iloc[idx]['CPP_Code'])\n",
        "\n",
        "        c_tokens = self.tokenizer.encode(c_code, padding='max_length', truncation=True, max_length=self.max_length, return_tensors='pt')\n",
        "        cpp_tokens = self.tokenizer.encode(cpp_code, padding='max_length', truncation=True, max_length=self.max_length, return_tensors='pt')\n",
        "\n",
        "        return c_tokens.squeeze(0), cpp_tokens.squeeze(0)\n",
        "\n",
        "\n",
        "# 2. Load Dataset\n",
        "df = pd.read_csv(\"/content/drive/MyDrive/AI-Ml Translation/c_to_cpp_dataset 75.csv\")\n",
        "train_data, val_data = train_test_split(df, test_size=0.1, random_state=42)\n",
        "\n",
        "\n",
        "tokenizer = AutoTokenizer.from_pretrained(\"microsoft/codebert-base\")\n",
        "max_length = 128\n",
        "\n",
        "train_data = train_data.sample(n=5000, random_state=42)\n",
        "train_dataset = CppTranslationDataset(train_data, tokenizer, max_length)\n",
        "val_dataset = CppTranslationDataset(val_data, tokenizer, max_length)\n",
        "\n",
        "train_loader = DataLoader(train_dataset, batch_size=16, shuffle=True)\n",
        "val_loader = DataLoader(val_dataset, batch_size=16, shuffle=False)\n",
        "\n",
        "print(\"Data preprocessing completed.\")\n",
        "\n",
        "# 3.Transformer Model\n",
        "\n",
        "class TransformerModel(nn.Module):\n",
        "    def __init__(self, vocab_size, d_model, num_heads, num_layers, ff_dim, max_length):\n",
        "        super().__init__()\n",
        "        self.embedding = nn.Embedding(vocab_size, d_model)\n",
        "        self.position_encoder = PositionalEncoding(d_model, max_length)\n",
        "\n",
        "        self.encoder_layer = nn.TransformerEncoderLayer(d_model, num_heads, ff_dim, dropout=0.2, batch_first=True)\n",
        "        self.encoder = nn.TransformerEncoder(self.encoder_layer, num_layers)\n",
        "\n",
        "        self.decoder_layer = nn.TransformerDecoderLayer(d_model, num_heads, ff_dim, dropout=0.2, batch_first=True)\n",
        "        self.decoder = nn.TransformerDecoder(self.decoder_layer, num_layers)\n",
        "\n",
        "        self.fc_out = nn.Linear(d_model, vocab_size)\n",
        "\n",
        "    def forward(self, src, tgt):\n",
        "        src_emb = self.position_encoder(self.embedding(src))\n",
        "        tgt_emb = self.position_encoder(self.embedding(tgt))\n",
        "\n",
        "        memory = self.encoder(src_emb)\n",
        "        output = self.decoder(tgt_emb, memory)\n",
        "        return self.fc_out(output)\n",
        "\n",
        "# 4. Train\n",
        "d_model = 128\n",
        "num_heads = 8\n",
        "num_layers = 4\n",
        "ff_dim = 256\n",
        "vocab_size = len(tokenizer.get_vocab())\n",
        "\n",
        "transformer_model = TransformerModel(vocab_size, d_model, num_heads, num_layers, ff_dim, max_length).to(get_device())\n",
        "\n",
        "criterion = nn.CrossEntropyLoss(ignore_index=tokenizer.pad_token_id)\n",
        "optimizer = optim.AdamW(transformer_model.parameters(), lr=1e-4)\n",
        "\n",
        "print(\"Training Started\")\n",
        "\n",
        "num_epochs = 10\n",
        "for epoch in range(num_epochs):\n",
        "    transformer_model.train()\n",
        "    total_loss = 0\n",
        "\n",
        "    for c_tokens, cpp_tokens in train_loader:\n",
        "        c_tokens, cpp_tokens = c_tokens.to(get_device()), cpp_tokens.to(get_device())\n",
        "\n",
        "        optimizer.zero_grad()\n",
        "        outputs = transformer_model(c_tokens, cpp_tokens[:, :-1].contiguous())\n",
        "\n",
        "        loss = criterion(outputs.view(-1, outputs.size(-1)), cpp_tokens[:, 1:].reshape(-1))\n",
        "        loss.backward()\n",
        "        optimizer.step()\n",
        "\n",
        "        total_loss += loss.item()\n",
        "\n",
        "    print(f\"Epoch [{epoch+1}/{num_epochs}], Loss: {total_loss / len(train_loader):.4f}\")\n",
        "\n",
        "print(\"Training Completed\")\n",
        "\n",
        "# 5. Model Evaluation\n",
        "transformer_model.eval()\n",
        "total_loss = 0\n",
        "\n",
        "with torch.no_grad():\n",
        "    for c_tokens, cpp_tokens in val_loader:\n",
        "        c_tokens, cpp_tokens = c_tokens.to(get_device()), cpp_tokens.to(get_device())\n",
        "        outputs = transformer_model(c_tokens, cpp_tokens[:, :-1].contiguous())\n",
        "\n",
        "        loss = criterion(outputs.view(-1, outputs.size(-1)), cpp_tokens[:, 1:].reshape(-1))\n",
        "        total_loss += loss.item()\n",
        "\n",
        "print(f\"Validation Loss: {total_loss / len(val_loader):.4f}\")\n",
        "\n",
        "\n",
        "# 6. Translation Function (Beam Search)\n",
        "def translate_c_to_cpp(c_code, beam_size=5):\n",
        "    transformer_model.eval()\n",
        "    tokens = tokenizer.encode(c_code, padding='max_length', truncation=True, max_length=max_length, return_tensors='pt')\n",
        "    tokens = tokens.to(get_device())\n",
        "\n",
        "    tgt_input = torch.full((1, 1), tokenizer.cls_token_id, dtype=torch.long, device=get_device())\n",
        "\n",
        "    with torch.no_grad():\n",
        "        for _ in range(max_length):\n",
        "            output_tokens = transformer_model(tokens, tgt_input)\n",
        "\n",
        "            probs = F.softmax(output_tokens[:, -1, :], dim=-1)\n",
        "            top_k_probs, top_k_indices = torch.topk(probs, beam_size, dim=-1)\n",
        "\n",
        "\n",
        "            next_token = top_k_indices[0, torch.multinomial(top_k_probs[0], num_samples=1)].unsqueeze(0)\n",
        "\n",
        "            if next_token.item() == tokenizer.sep_token_id:\n",
        "                break\n",
        "\n",
        "            tgt_input = torch.cat((tgt_input, next_token), dim=1)\n",
        "\n",
        "    return tokenizer.decode(tgt_input.squeeze(0).tolist(), skip_special_tokens=True)"
      ]
    },
    {
      "cell_type": "code",
      "source": [
        "c_sample = 'printf(\"Hello World\");'\n",
        "cpp_output = translate_c_to_cpp(c_sample)\n",
        "print(\"Generated C++ Code:\\n\", cpp_output)"
      ],
      "metadata": {
        "colab": {
          "base_uri": "https://localhost:8080/"
        },
        "id": "fX7DTeXwUdn3",
        "outputId": "c886a3b1-dd1e-4bbc-d46d-f160e86e33f8"
      },
      "execution_count": null,
      "outputs": [
        {
          "output_type": "stream",
          "name": "stdout",
          "text": [
            "Generated C++ Code:\n",
            " std::cout << \"Hello World std::cout << \"(x <( x;\n"
          ]
        }
      ]
    }
  ]
}